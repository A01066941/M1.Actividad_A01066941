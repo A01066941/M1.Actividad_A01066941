{
 "cells": [
  {
   "cell_type": "markdown",
   "metadata": {
    "id": "KJUuPt3nKfSJ"
   },
   "source": [
    "# Actividad M1\n",
    "José Sebastián Naranjo Zamudio A01066941\n",
    "\n"
   ]
  },
  {
   "cell_type": "markdown",
   "metadata": {
    "id": "IQJn7ehOKfSM"
   },
   "source": []
  },
  {
   "cell_type": "markdown",
   "metadata": {
    "id": "43Q0cxDpKfSM",
    "tags": []
   },
   "source": [
    "## Imports\n",
    "\n",
    "Antes de empezar a crear el modelo del juego de la vida con multiagentes es necesario tener instalado los siguientes paquetes:\n",
    "- `python`: asegúrense de usar la versión 3+.\n",
    "- `mesa`: el framework de Python para el modelado de agentes.\n",
    "- `numpy`: es una biblioteca de Python para el manejo de matrices, arreglos, manipulación matemática, lógica y mucho más.\n",
    "- `matplotlib`: es una biblioteca para crear visualizaciones estáticas, animadas e interactivas en Python.\n",
    "\n",
    "Para poder modelar el juego de la vida usando el framework de `mesa` es necesario importar dos clases: una para el modelo general, y otro para los agentes. "
   ]
  },
  {
   "cell_type": "code",
   "execution_count": 78,
   "metadata": {
    "colab": {
     "base_uri": "https://localhost:8080/"
    },
    "id": "c9dWhz8xKkx2",
    "outputId": "36edb1fa-1d06-4aaa-cbe6-2e6bb605baa1",
    "scrolled": false
   },
   "outputs": [
    {
     "name": "stdout",
     "output_type": "stream",
     "text": [
      "Requirement already satisfied: mesa in c:\\users\\jd127\\anaconda3\\lib\\site-packages (0.8.9)\n",
      "Requirement already satisfied: cookiecutter in c:\\users\\jd127\\anaconda3\\lib\\site-packages (from mesa) (1.7.3)\n",
      "Requirement already satisfied: pandas in c:\\users\\jd127\\anaconda3\\lib\\site-packages (from mesa) (1.2.4)\n",
      "Requirement already satisfied: click in c:\\users\\jd127\\anaconda3\\lib\\site-packages (from mesa) (7.1.2)\n",
      "Requirement already satisfied: tornado in c:\\users\\jd127\\anaconda3\\lib\\site-packages (from mesa) (6.1)\n",
      "Requirement already satisfied: tqdm in c:\\users\\jd127\\anaconda3\\lib\\site-packages (from mesa) (4.59.0)\n",
      "Requirement already satisfied: networkx in c:\\users\\jd127\\anaconda3\\lib\\site-packages (from mesa) (2.5)\n",
      "Requirement already satisfied: numpy in c:\\users\\jd127\\anaconda3\\lib\\site-packages (from mesa) (1.20.1)\n",
      "Requirement already satisfied: jinja2-time>=0.2.0 in c:\\users\\jd127\\anaconda3\\lib\\site-packages (from cookiecutter->mesa) (0.2.0)\n",
      "Requirement already satisfied: six>=1.10 in c:\\users\\jd127\\anaconda3\\lib\\site-packages (from cookiecutter->mesa) (1.15.0)\n",
      "Requirement already satisfied: python-slugify>=4.0.0 in c:\\users\\jd127\\anaconda3\\lib\\site-packages (from cookiecutter->mesa) (5.0.2)\n",
      "Requirement already satisfied: Jinja2<4.0.0,>=2.7 in c:\\users\\jd127\\anaconda3\\lib\\site-packages (from cookiecutter->mesa) (2.11.3)\n",
      "Requirement already satisfied: poyo>=0.5.0 in c:\\users\\jd127\\anaconda3\\lib\\site-packages (from cookiecutter->mesa) (0.5.0)\n",
      "Requirement already satisfied: binaryornot>=0.4.4 in c:\\users\\jd127\\anaconda3\\lib\\site-packages (from cookiecutter->mesa) (0.4.4)\n",
      "Requirement already satisfied: requests>=2.23.0 in c:\\users\\jd127\\anaconda3\\lib\\site-packages (from cookiecutter->mesa) (2.25.1)\n",
      "Requirement already satisfied: chardet>=3.0.2 in c:\\users\\jd127\\anaconda3\\lib\\site-packages (from binaryornot>=0.4.4->cookiecutter->mesa) (4.0.0)\n",
      "Requirement already satisfied: MarkupSafe>=0.23 in c:\\users\\jd127\\anaconda3\\lib\\site-packages (from Jinja2<4.0.0,>=2.7->cookiecutter->mesa) (1.1.1)\n",
      "Requirement already satisfied: arrow in c:\\users\\jd127\\anaconda3\\lib\\site-packages (from jinja2-time>=0.2.0->cookiecutter->mesa) (1.1.1)\n",
      "Requirement already satisfied: text-unidecode>=1.3 in c:\\users\\jd127\\anaconda3\\lib\\site-packages (from python-slugify>=4.0.0->cookiecutter->mesa) (1.3)\n",
      "Requirement already satisfied: idna<3,>=2.5 in c:\\users\\jd127\\anaconda3\\lib\\site-packages (from requests>=2.23.0->cookiecutter->mesa) (2.10)\n",
      "Requirement already satisfied: certifi>=2017.4.17 in c:\\users\\jd127\\anaconda3\\lib\\site-packages (from requests>=2.23.0->cookiecutter->mesa) (2020.12.5)\n",
      "Requirement already satisfied: urllib3<1.27,>=1.21.1 in c:\\users\\jd127\\anaconda3\\lib\\site-packages (from requests>=2.23.0->cookiecutter->mesa) (1.26.4)\n",
      "Requirement already satisfied: python-dateutil>=2.7.0 in c:\\users\\jd127\\anaconda3\\lib\\site-packages (from arrow->jinja2-time>=0.2.0->cookiecutter->mesa) (2.8.1)\n",
      "Requirement already satisfied: decorator>=4.3.0 in c:\\users\\jd127\\anaconda3\\lib\\site-packages (from networkx->mesa) (5.0.6)\n",
      "Requirement already satisfied: pytz>=2017.3 in c:\\users\\jd127\\anaconda3\\lib\\site-packages (from pandas->mesa) (2021.1)\n"
     ]
    }
   ],
   "source": [
    "!pip3 install mesa"
   ]
  },
  {
   "cell_type": "code",
   "execution_count": 79,
   "metadata": {
    "id": "VCKv0ClSKfSN"
   },
   "outputs": [],
   "source": [
    "# La clase `Model` se hace cargo de los atributos a nivel del modelo, maneja los agentes. \n",
    "# Cada modelo puede contener múltiples agentes y todos ellos son instancias de la clase `Agent`.\n",
    "from mesa import Agent, Model \n",
    "\n",
    "# Debido a que necesitamos un solo agente por celda elegimos `SingleGrid` que fuerza un solo objeto por celda.\n",
    "from mesa.space import MultiGrid\n",
    "\n",
    "# Con `SimultaneousActivation` hacemos que todos los agentes se activen de manera simultanea.\n",
    "from mesa.time import SimultaneousActivation\n",
    "\n",
    "# Vamos a hacer uso de `DataCollector` para obtener el grid completo cada paso (o generación) y lo usaremos para graficarlo.\n",
    "from mesa.datacollection import DataCollector\n",
    "\n",
    "# mathplotlib lo usamos para graficar/visualizar como evoluciona el autómata celular.\n",
    "%matplotlib inline\n",
    "import matplotlib\n",
    "import matplotlib.pyplot as plt\n",
    "import matplotlib.animation as animation\n",
    "plt.rcParams[\"animation.html\"] = \"jshtml\"\n",
    "matplotlib.rcParams['animation.embed_limit'] = 2**128\n",
    "\n",
    "# Definimos los siguientes paquetes para manejar valores númericos.\n",
    "import numpy as np\n",
    "import pandas as pd\n",
    "\n",
    "# Definimos otros paquetes que vamos a usar para medir el tiempo de ejecución de nuestro algoritmo.\n",
    "import time\n",
    "import datetime"
   ]
  },
  {
   "cell_type": "markdown",
   "metadata": {
    "id": "jpgt9VVLKfSO"
   },
   "source": [
    "## Crear el modelo\n",
    "\n",
    "Antes que nada el presente modelo se encuentra basado en el [tutorial introductorio](https://mesa.readthedocs.io/en/master/tutorials/intro_tutorial.html). Lo modifiqué un poco para que funcionara para el presente problema pero en esencia es lo mismo."
   ]
  },
  {
   "cell_type": "code",
   "execution_count": 80,
   "metadata": {},
   "outputs": [],
   "source": [
    "class RandomWalker(Agent):\n",
    "    \"\"\"\n",
    "    Class implementing random walker methods in a generalized manner.\n",
    "    Not indended to be used on its own, but to inherit its methods to multiple\n",
    "    other agents.\n",
    "    \"\"\"\n",
    "\n",
    "    grid = None\n",
    "    x = None\n",
    "    y = None\n",
    "    moore = True\n",
    "\n",
    "    def __init__(self, unique_id, pos, model, moore=True):\n",
    "        \"\"\"\n",
    "        grid: The MultiGrid object in which the agent lives.\n",
    "        x: The agent's current x coordinate\n",
    "        y: The agent's current y coordinate\n",
    "        moore: If True, may move in all 8 directions.\n",
    "                Otherwise, only up, down, left, right.\n",
    "        \"\"\"\n",
    "        super().__init__(unique_id, model)\n",
    "        self.pos = pos\n",
    "        self.moore = moore\n",
    "\n",
    "    def random_move(self):\n",
    "        \"\"\"\n",
    "        Step one cell in any allowable direction.\n",
    "        \"\"\"\n",
    "        # Pick the next cell from the adjacent cells.\n",
    "        next_moves = self.model.grid.get_neighborhood(self.pos, self.moore, True)\n",
    "        next_move = self.random.choice(next_moves)\n",
    "        # Now move:\n",
    "        self.model.grid.move_agent(self, next_move)"
   ]
  },
  {
   "cell_type": "code",
   "execution_count": 86,
   "metadata": {
    "id": "OV98dyAhKfSO"
   },
   "outputs": [],
   "source": [
    "def get_grid(model):\n",
    "    '''\n",
    "    Esta es una función auxiliar que nos permite guardar el grid para cada uno de los agentes.\n",
    "    param model: El modelo del cual optener el grid.\n",
    "    return una matriz con la información del grid del agente.\n",
    "    '''\n",
    "    grid = np.zeros((model.grid.width, model.grid.height))\n",
    "    for cell in model.grid.coord_iter():\n",
    "        cell_content, x, y = cell\n",
    "        grid[x][y] = cell_content.live\n",
    "    return grid\n",
    "\n",
    "class Dirty_Tile(Agent):\n",
    "    def __init__(self, unique_id,model,pos):\n",
    "        super().__init__(unique_id, model,pos)\n",
    "        self.pos = pos\n",
    "    \n",
    "        \n",
    "class Vacuum_Robot(RandomWalker):\n",
    "    def __init__(self, unique_id, model,pos):\n",
    "        super().__init__(unique_id, model,pos)\n",
    "        \n",
    "    def step(self):\n",
    "        self.random_move()\n",
    "        \n",
    "        x, y = self.pos\n",
    "        this_cell = self.model.grid.get_cell_list_contents([self.pos])\n",
    "        tile = [obj for obj in this_cell if isinstance(obj, Dirty_Tile)]\n",
    "        \n",
    "        if len(tile) > 0:\n",
    "            tile_to_clean = self.random.choice(tile)\n",
    "\n",
    "            # Limpiar el tile\n",
    "            self.model.grid._remove_agent(self.pos, tile_to_clean)\n",
    "            self.model.schedule.remove(tile_to_clean)\n",
    "            \n",
    "class GameLifeModel(Model):\n",
    "    \n",
    "    def __init__(self,T,V, width, height):\n",
    "        self.num_agents_tiles = T\n",
    "        self.num_agents_vacuums=V\n",
    "        self.grid = MultiGrid(width, height, True)\n",
    "        self.schedule = SimultaneousActivation(self)\n",
    "        \n",
    "      # Create tiles\n",
    "        for i in range(self.num_agents_tiles):\n",
    "            x = self.random.randrange(self.grid.width)\n",
    "            y = self.random.randrange(self.grid.height)\n",
    "            a = Dirty_Tile(i,self(x,y))\n",
    "            self.grid.place_agent(a, (x, y))\n",
    "            \n",
    "       # Create vacuums\n",
    "        for i in range(self.num_agents_vacuums):\n",
    "            x = self.random.randrange(self.grid.width)\n",
    "            y = self.random.randrange(self.grid.height)\n",
    "            b= Vacuum_Robot(i,self(x,y))\n",
    "            self.grid.place_agent(b,(x,y))\n",
    "\n",
    "    \n",
    "        # Aquí definimos con colector para obtener el grid completo.\n",
    "        self.datacollector = DataCollector(\n",
    "            model_reporters={\"Grid\": get_grid})\n",
    "        \n",
    "            \n",
    "    def step(self):\n",
    "        '''\n",
    "        En cada paso el colector tomará la información que se definió y almacenará el grid para luego graficarlo.\n",
    "        '''\n",
    "        self.datacollector.collect(self)\n",
    "        self.schedule.step()"
   ]
  },
  {
   "cell_type": "markdown",
   "metadata": {
    "id": "p8hcfMP6KfSP"
   },
   "source": [
    "A continuación corremos el modelo"
   ]
  },
  {
   "cell_type": "code",
   "execution_count": 87,
   "metadata": {
    "colab": {
     "base_uri": "https://localhost:8080/"
    },
    "id": "fj5LDvEpKfSQ",
    "outputId": "fe7aeb5e-0880-4580-9561-b50f116e794d",
    "scrolled": true
   },
   "outputs": [
    {
     "ename": "TypeError",
     "evalue": "'GameLifeModel' object is not callable",
     "output_type": "error",
     "traceback": [
      "\u001b[1;31m---------------------------------------------------------------------------\u001b[0m",
      "\u001b[1;31mTypeError\u001b[0m                                 Traceback (most recent call last)",
      "\u001b[1;32m<ipython-input-87-86747daf6bd1>\u001b[0m in \u001b[0;36m<module>\u001b[1;34m\u001b[0m\n\u001b[0;32m     12\u001b[0m \u001b[1;31m# Registramos el tiempo de inicio y corremos el modelo\u001b[0m\u001b[1;33m\u001b[0m\u001b[1;33m\u001b[0m\u001b[1;33m\u001b[0m\u001b[0m\n\u001b[0;32m     13\u001b[0m \u001b[0mstart_time\u001b[0m \u001b[1;33m=\u001b[0m \u001b[0mtime\u001b[0m\u001b[1;33m.\u001b[0m\u001b[0mtime\u001b[0m\u001b[1;33m(\u001b[0m\u001b[1;33m)\u001b[0m\u001b[1;33m\u001b[0m\u001b[1;33m\u001b[0m\u001b[0m\n\u001b[1;32m---> 14\u001b[1;33m \u001b[0mmodel\u001b[0m \u001b[1;33m=\u001b[0m \u001b[0mGameLifeModel\u001b[0m\u001b[1;33m(\u001b[0m\u001b[0mTiles\u001b[0m\u001b[1;33m,\u001b[0m\u001b[0mVacuum\u001b[0m\u001b[1;33m,\u001b[0m\u001b[0mwidth\u001b[0m\u001b[1;33m,\u001b[0m \u001b[0mheight\u001b[0m\u001b[1;33m)\u001b[0m\u001b[1;33m\u001b[0m\u001b[1;33m\u001b[0m\u001b[0m\n\u001b[0m\u001b[0;32m     15\u001b[0m \u001b[1;32mfor\u001b[0m \u001b[0mi\u001b[0m \u001b[1;32min\u001b[0m \u001b[0mrange\u001b[0m\u001b[1;33m(\u001b[0m\u001b[1;36m10\u001b[0m\u001b[1;33m)\u001b[0m\u001b[1;33m:\u001b[0m\u001b[1;33m\u001b[0m\u001b[1;33m\u001b[0m\u001b[0m\n\u001b[0;32m     16\u001b[0m     \u001b[0mmodel\u001b[0m\u001b[1;33m.\u001b[0m\u001b[0mstep\u001b[0m\u001b[1;33m(\u001b[0m\u001b[1;33m)\u001b[0m\u001b[1;33m\u001b[0m\u001b[1;33m\u001b[0m\u001b[0m\n",
      "\u001b[1;32m<ipython-input-86-80c0ecbf9190>\u001b[0m in \u001b[0;36m__init__\u001b[1;34m(self, T, V, width, height)\u001b[0m\n\u001b[0;32m     47\u001b[0m             \u001b[0mx\u001b[0m \u001b[1;33m=\u001b[0m \u001b[0mself\u001b[0m\u001b[1;33m.\u001b[0m\u001b[0mrandom\u001b[0m\u001b[1;33m.\u001b[0m\u001b[0mrandrange\u001b[0m\u001b[1;33m(\u001b[0m\u001b[0mself\u001b[0m\u001b[1;33m.\u001b[0m\u001b[0mgrid\u001b[0m\u001b[1;33m.\u001b[0m\u001b[0mwidth\u001b[0m\u001b[1;33m)\u001b[0m\u001b[1;33m\u001b[0m\u001b[1;33m\u001b[0m\u001b[0m\n\u001b[0;32m     48\u001b[0m             \u001b[0my\u001b[0m \u001b[1;33m=\u001b[0m \u001b[0mself\u001b[0m\u001b[1;33m.\u001b[0m\u001b[0mrandom\u001b[0m\u001b[1;33m.\u001b[0m\u001b[0mrandrange\u001b[0m\u001b[1;33m(\u001b[0m\u001b[0mself\u001b[0m\u001b[1;33m.\u001b[0m\u001b[0mgrid\u001b[0m\u001b[1;33m.\u001b[0m\u001b[0mheight\u001b[0m\u001b[1;33m)\u001b[0m\u001b[1;33m\u001b[0m\u001b[1;33m\u001b[0m\u001b[0m\n\u001b[1;32m---> 49\u001b[1;33m             \u001b[0ma\u001b[0m \u001b[1;33m=\u001b[0m \u001b[0mDirty_Tile\u001b[0m\u001b[1;33m(\u001b[0m\u001b[0mi\u001b[0m\u001b[1;33m,\u001b[0m\u001b[0mself\u001b[0m\u001b[1;33m(\u001b[0m\u001b[0mx\u001b[0m\u001b[1;33m,\u001b[0m\u001b[0my\u001b[0m\u001b[1;33m)\u001b[0m\u001b[1;33m)\u001b[0m\u001b[1;33m\u001b[0m\u001b[1;33m\u001b[0m\u001b[0m\n\u001b[0m\u001b[0;32m     50\u001b[0m             \u001b[0mself\u001b[0m\u001b[1;33m.\u001b[0m\u001b[0mgrid\u001b[0m\u001b[1;33m.\u001b[0m\u001b[0mplace_agent\u001b[0m\u001b[1;33m(\u001b[0m\u001b[0ma\u001b[0m\u001b[1;33m,\u001b[0m \u001b[1;33m(\u001b[0m\u001b[0mx\u001b[0m\u001b[1;33m,\u001b[0m \u001b[0my\u001b[0m\u001b[1;33m)\u001b[0m\u001b[1;33m)\u001b[0m\u001b[1;33m\u001b[0m\u001b[1;33m\u001b[0m\u001b[0m\n\u001b[0;32m     51\u001b[0m \u001b[1;33m\u001b[0m\u001b[0m\n",
      "\u001b[1;31mTypeError\u001b[0m: 'GameLifeModel' object is not callable"
     ]
    }
   ],
   "source": [
    "# Definimos el tamaño del Grid\n",
    "width=10\n",
    "height=10\n",
    "\n",
    "# Definimos el número de agentes\n",
    "Tiles = 3\n",
    "Vacuum = 3\n",
    "\n",
    "#Steps\n",
    "steps=10\n",
    "\n",
    "# Registramos el tiempo de inicio y corremos el modelo\n",
    "start_time = time.time()\n",
    "model = GameLifeModel(Tiles,Vacuum,width, height)\n",
    "for i in range(time):\n",
    "    model.step()\n",
    "\n",
    "# Imprimimos el tiempo que le tomó correr al modelo.\n",
    "print('Tiempo de ejecución:', str(datetime.timedelta(seconds=(time.time() - start_time))))"
   ]
  },
  {
   "cell_type": "markdown",
   "metadata": {
    "id": "7nS66alkKfSR"
   },
   "source": [
    "Obtenemos la información que almacenó el colector, este nos entregará un DataFrame de pandas que contiene toda la información."
   ]
  },
  {
   "cell_type": "code",
   "execution_count": 83,
   "metadata": {
    "id": "UfEr4w3zKfSS"
   },
   "outputs": [],
   "source": [
    "all_grid = model.datacollector.get_model_vars_dataframe()"
   ]
  },
  {
   "cell_type": "markdown",
   "metadata": {
    "id": "idocz_-5KfSS"
   },
   "source": [
    "Graficamos la información usando `matplotlib`"
   ]
  },
  {
   "cell_type": "code",
   "execution_count": 84,
   "metadata": {
    "id": "Kua3-9jGKfSS"
   },
   "outputs": [
    {
     "ename": "IndexError",
     "evalue": "single positional indexer is out-of-bounds",
     "output_type": "error",
     "traceback": [
      "\u001b[1;31m---------------------------------------------------------------------------\u001b[0m",
      "\u001b[1;31mIndexError\u001b[0m                                Traceback (most recent call last)",
      "\u001b[1;32m<ipython-input-84-508c2ed2c327>\u001b[0m in \u001b[0;36m<module>\u001b[1;34m\u001b[0m\n\u001b[0;32m      2\u001b[0m \u001b[0maxs\u001b[0m\u001b[1;33m.\u001b[0m\u001b[0mset_xticks\u001b[0m\u001b[1;33m(\u001b[0m\u001b[1;33m[\u001b[0m\u001b[1;33m]\u001b[0m\u001b[1;33m)\u001b[0m\u001b[1;33m\u001b[0m\u001b[1;33m\u001b[0m\u001b[0m\n\u001b[0;32m      3\u001b[0m \u001b[0maxs\u001b[0m\u001b[1;33m.\u001b[0m\u001b[0mset_yticks\u001b[0m\u001b[1;33m(\u001b[0m\u001b[1;33m[\u001b[0m\u001b[1;33m]\u001b[0m\u001b[1;33m)\u001b[0m\u001b[1;33m\u001b[0m\u001b[1;33m\u001b[0m\u001b[0m\n\u001b[1;32m----> 4\u001b[1;33m \u001b[0mpatch\u001b[0m \u001b[1;33m=\u001b[0m \u001b[0mplt\u001b[0m\u001b[1;33m.\u001b[0m\u001b[0mimshow\u001b[0m\u001b[1;33m(\u001b[0m\u001b[0mall_grid\u001b[0m\u001b[1;33m.\u001b[0m\u001b[0miloc\u001b[0m\u001b[1;33m[\u001b[0m\u001b[1;36m0\u001b[0m\u001b[1;33m]\u001b[0m\u001b[1;33m[\u001b[0m\u001b[1;36m0\u001b[0m\u001b[1;33m]\u001b[0m\u001b[1;33m,\u001b[0m \u001b[0mcmap\u001b[0m\u001b[1;33m=\u001b[0m\u001b[1;34m'YlGnBu'\u001b[0m\u001b[1;33m)\u001b[0m\u001b[1;33m\u001b[0m\u001b[1;33m\u001b[0m\u001b[0m\n\u001b[0m\u001b[0;32m      5\u001b[0m \u001b[1;33m\u001b[0m\u001b[0m\n\u001b[0;32m      6\u001b[0m \u001b[1;32mdef\u001b[0m \u001b[0manimate\u001b[0m\u001b[1;33m(\u001b[0m\u001b[0mi\u001b[0m\u001b[1;33m)\u001b[0m\u001b[1;33m:\u001b[0m\u001b[1;33m\u001b[0m\u001b[1;33m\u001b[0m\u001b[0m\n",
      "\u001b[1;32m~\\anaconda3\\lib\\site-packages\\pandas\\core\\indexing.py\u001b[0m in \u001b[0;36m__getitem__\u001b[1;34m(self, key)\u001b[0m\n\u001b[0;32m    893\u001b[0m \u001b[1;33m\u001b[0m\u001b[0m\n\u001b[0;32m    894\u001b[0m             \u001b[0mmaybe_callable\u001b[0m \u001b[1;33m=\u001b[0m \u001b[0mcom\u001b[0m\u001b[1;33m.\u001b[0m\u001b[0mapply_if_callable\u001b[0m\u001b[1;33m(\u001b[0m\u001b[0mkey\u001b[0m\u001b[1;33m,\u001b[0m \u001b[0mself\u001b[0m\u001b[1;33m.\u001b[0m\u001b[0mobj\u001b[0m\u001b[1;33m)\u001b[0m\u001b[1;33m\u001b[0m\u001b[1;33m\u001b[0m\u001b[0m\n\u001b[1;32m--> 895\u001b[1;33m             \u001b[1;32mreturn\u001b[0m \u001b[0mself\u001b[0m\u001b[1;33m.\u001b[0m\u001b[0m_getitem_axis\u001b[0m\u001b[1;33m(\u001b[0m\u001b[0mmaybe_callable\u001b[0m\u001b[1;33m,\u001b[0m \u001b[0maxis\u001b[0m\u001b[1;33m=\u001b[0m\u001b[0maxis\u001b[0m\u001b[1;33m)\u001b[0m\u001b[1;33m\u001b[0m\u001b[1;33m\u001b[0m\u001b[0m\n\u001b[0m\u001b[0;32m    896\u001b[0m \u001b[1;33m\u001b[0m\u001b[0m\n\u001b[0;32m    897\u001b[0m     \u001b[1;32mdef\u001b[0m \u001b[0m_is_scalar_access\u001b[0m\u001b[1;33m(\u001b[0m\u001b[0mself\u001b[0m\u001b[1;33m,\u001b[0m \u001b[0mkey\u001b[0m\u001b[1;33m:\u001b[0m \u001b[0mTuple\u001b[0m\u001b[1;33m)\u001b[0m\u001b[1;33m:\u001b[0m\u001b[1;33m\u001b[0m\u001b[1;33m\u001b[0m\u001b[0m\n",
      "\u001b[1;32m~\\anaconda3\\lib\\site-packages\\pandas\\core\\indexing.py\u001b[0m in \u001b[0;36m_getitem_axis\u001b[1;34m(self, key, axis)\u001b[0m\n\u001b[0;32m   1499\u001b[0m \u001b[1;33m\u001b[0m\u001b[0m\n\u001b[0;32m   1500\u001b[0m             \u001b[1;31m# validate the location\u001b[0m\u001b[1;33m\u001b[0m\u001b[1;33m\u001b[0m\u001b[1;33m\u001b[0m\u001b[0m\n\u001b[1;32m-> 1501\u001b[1;33m             \u001b[0mself\u001b[0m\u001b[1;33m.\u001b[0m\u001b[0m_validate_integer\u001b[0m\u001b[1;33m(\u001b[0m\u001b[0mkey\u001b[0m\u001b[1;33m,\u001b[0m \u001b[0maxis\u001b[0m\u001b[1;33m)\u001b[0m\u001b[1;33m\u001b[0m\u001b[1;33m\u001b[0m\u001b[0m\n\u001b[0m\u001b[0;32m   1502\u001b[0m \u001b[1;33m\u001b[0m\u001b[0m\n\u001b[0;32m   1503\u001b[0m             \u001b[1;32mreturn\u001b[0m \u001b[0mself\u001b[0m\u001b[1;33m.\u001b[0m\u001b[0mobj\u001b[0m\u001b[1;33m.\u001b[0m\u001b[0m_ixs\u001b[0m\u001b[1;33m(\u001b[0m\u001b[0mkey\u001b[0m\u001b[1;33m,\u001b[0m \u001b[0maxis\u001b[0m\u001b[1;33m=\u001b[0m\u001b[0maxis\u001b[0m\u001b[1;33m)\u001b[0m\u001b[1;33m\u001b[0m\u001b[1;33m\u001b[0m\u001b[0m\n",
      "\u001b[1;32m~\\anaconda3\\lib\\site-packages\\pandas\\core\\indexing.py\u001b[0m in \u001b[0;36m_validate_integer\u001b[1;34m(self, key, axis)\u001b[0m\n\u001b[0;32m   1442\u001b[0m         \u001b[0mlen_axis\u001b[0m \u001b[1;33m=\u001b[0m \u001b[0mlen\u001b[0m\u001b[1;33m(\u001b[0m\u001b[0mself\u001b[0m\u001b[1;33m.\u001b[0m\u001b[0mobj\u001b[0m\u001b[1;33m.\u001b[0m\u001b[0m_get_axis\u001b[0m\u001b[1;33m(\u001b[0m\u001b[0maxis\u001b[0m\u001b[1;33m)\u001b[0m\u001b[1;33m)\u001b[0m\u001b[1;33m\u001b[0m\u001b[1;33m\u001b[0m\u001b[0m\n\u001b[0;32m   1443\u001b[0m         \u001b[1;32mif\u001b[0m \u001b[0mkey\u001b[0m \u001b[1;33m>=\u001b[0m \u001b[0mlen_axis\u001b[0m \u001b[1;32mor\u001b[0m \u001b[0mkey\u001b[0m \u001b[1;33m<\u001b[0m \u001b[1;33m-\u001b[0m\u001b[0mlen_axis\u001b[0m\u001b[1;33m:\u001b[0m\u001b[1;33m\u001b[0m\u001b[1;33m\u001b[0m\u001b[0m\n\u001b[1;32m-> 1444\u001b[1;33m             \u001b[1;32mraise\u001b[0m \u001b[0mIndexError\u001b[0m\u001b[1;33m(\u001b[0m\u001b[1;34m\"single positional indexer is out-of-bounds\"\u001b[0m\u001b[1;33m)\u001b[0m\u001b[1;33m\u001b[0m\u001b[1;33m\u001b[0m\u001b[0m\n\u001b[0m\u001b[0;32m   1445\u001b[0m \u001b[1;33m\u001b[0m\u001b[0m\n\u001b[0;32m   1446\u001b[0m     \u001b[1;31m# -------------------------------------------------------------------\u001b[0m\u001b[1;33m\u001b[0m\u001b[1;33m\u001b[0m\u001b[1;33m\u001b[0m\u001b[0m\n",
      "\u001b[1;31mIndexError\u001b[0m: single positional indexer is out-of-bounds"
     ]
    }
   ],
   "source": [
    "%%capture\n",
    "\n",
    "fig, axs = plt.subplots(figsize=(7,7))\n",
    "axs.set_xticks([])\n",
    "axs.set_yticks([])\n",
    "patch = plt.imshow(all_grid.iloc[0][0], cmap='YlGnBu')\n",
    "\n",
    "def animate(i):\n",
    "    patch.set_data(all_grid.iloc[i][0])\n",
    "    \n",
    "anim = animation.FuncAnimation(fig, animate, frames=len(all_grid))"
   ]
  },
  {
   "cell_type": "code",
   "execution_count": 85,
   "metadata": {
    "colab": {
     "base_uri": "https://localhost:8080/",
     "height": 601
    },
    "id": "-BFpj0LVKfSS",
    "outputId": "0a3f12e7-f444-4648-b0f4-df96f4c9b376"
   },
   "outputs": [
    {
     "ename": "NameError",
     "evalue": "name 'anim' is not defined",
     "output_type": "error",
     "traceback": [
      "\u001b[1;31m---------------------------------------------------------------------------\u001b[0m",
      "\u001b[1;31mNameError\u001b[0m                                 Traceback (most recent call last)",
      "\u001b[1;32m<ipython-input-85-027b5d0310db>\u001b[0m in \u001b[0;36m<module>\u001b[1;34m\u001b[0m\n\u001b[1;32m----> 1\u001b[1;33m \u001b[0manim\u001b[0m\u001b[1;33m\u001b[0m\u001b[1;33m\u001b[0m\u001b[0m\n\u001b[0m",
      "\u001b[1;31mNameError\u001b[0m: name 'anim' is not defined"
     ]
    }
   ],
   "source": [
    "anim"
   ]
  },
  {
   "cell_type": "markdown",
   "metadata": {
    "id": "D5C4DYT3KfST"
   },
   "source": [
    "## Conclusiones\n",
    "\n"
   ]
  },
  {
   "cell_type": "code",
   "execution_count": 88,
   "metadata": {
    "id": "nMh7DMMnKfST"
   },
   "outputs": [
    {
     "ename": "SyntaxError",
     "evalue": "invalid syntax (<ipython-input-88-a430853c56c8>, line 1)",
     "output_type": "error",
     "traceback": [
      "\u001b[1;36m  File \u001b[1;32m\"<ipython-input-88-a430853c56c8>\"\u001b[1;36m, line \u001b[1;32m1\u001b[0m\n\u001b[1;33m    Es un tanto aparente que el numero de agentes aspiradora puede ayudar a mejorar el tiempo requerido para limpiar la superficie, ya que si se posiciona un agente por tile existente la limpieza serai instantea y sin suciedad restante. Sin embargo en aplicaiones del mundo real xisten limitaciones de recursos y espacio por lo que lo anteriore no es un aopcion, lo mas apto seria dotar de mayores capcidad a poos agentes (por ejemplo la capcidad de reoicrdar donde estuvo) asi mejorando la limpieza y el timepo que esta actividad conlleva.\u001b[0m\n\u001b[1;37m       ^\u001b[0m\n\u001b[1;31mSyntaxError\u001b[0m\u001b[1;31m:\u001b[0m invalid syntax\n"
     ]
    }
   ],
   "source": [
    "'''Es un tanto aparente que el número de agentes aspiradora puede ayudar a mejorar el tiempo requerido \n",
    "para limpiar la superficie, ya que si se posicionará un agente por tile existente la limpieza seria instantea\n",
    "y sin suciedad restante. \n",
    "Sin embargo, en aplicaciones del mundo real existen limitaciones de recursos y espacio por lo que lo anterior no es un opción, \n",
    "lo mas apto seria dotar de mayores capacidades a pocos agentes (por ejemplo la habilidad de recordar dónde estuvo)\n",
    "asi mejorando la limpieza y el timepo que esta actividad conlleva.'''"
   ]
  },
  {
   "cell_type": "code",
   "execution_count": null,
   "metadata": {},
   "outputs": [],
   "source": []
  },
  {
   "cell_type": "code",
   "execution_count": null,
   "metadata": {},
   "outputs": [],
   "source": []
  }
 ],
 "metadata": {
  "colab": {
   "name": "Copia de Game_of_Life.ipynb",
   "provenance": [],
   "toc_visible": true
  },
  "kernelspec": {
   "display_name": "Python 3",
   "language": "python",
   "name": "python3"
  },
  "language_info": {
   "codemirror_mode": {
    "name": "ipython",
    "version": 3
   },
   "file_extension": ".py",
   "mimetype": "text/x-python",
   "name": "python",
   "nbconvert_exporter": "python",
   "pygments_lexer": "ipython3",
   "version": "3.8.8"
  }
 },
 "nbformat": 4,
 "nbformat_minor": 4
}
