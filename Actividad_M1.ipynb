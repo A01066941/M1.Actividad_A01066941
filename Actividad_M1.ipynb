{
 "cells": [
  {
   "cell_type": "markdown",
   "metadata": {
    "id": "KJUuPt3nKfSJ"
   },
   "source": [
    "# Actividad M1\n",
    "José Sebastián Naranjo Zamudio A01066941\n",
    "\n"
   ]
  },
  {
   "cell_type": "markdown",
   "metadata": {
    "id": "IQJn7ehOKfSM"
   },
   "source": []
  },
  {
   "cell_type": "markdown",
   "metadata": {
    "id": "43Q0cxDpKfSM",
    "tags": []
   },
   "source": [
    "## Imports\n",
    "\n",
    "Antes de empezar a crear el modelo del juego de la vida con multiagentes es necesario tener instalado los siguientes paquetes:\n",
    "- `python`: asegúrense de usar la versión 3+.\n",
    "- `mesa`: el framework de Python para el modelado de agentes.\n",
    "- `numpy`: es una biblioteca de Python para el manejo de matrices, arreglos, manipulación matemática, lógica y mucho más.\n",
    "- `matplotlib`: es una biblioteca para crear visualizaciones estáticas, animadas e interactivas en Python.\n",
    "\n",
    "Para poder modelar el juego de la vida usando el framework de `mesa` es necesario importar dos clases: una para el modelo general, y otro para los agentes. "
   ]
  },
  {
   "cell_type": "code",
   "execution_count": 2,
   "metadata": {
    "colab": {
     "base_uri": "https://localhost:8080/"
    },
    "id": "c9dWhz8xKkx2",
    "outputId": "36edb1fa-1d06-4aaa-cbe6-2e6bb605baa1",
    "scrolled": true
   },
   "outputs": [
    {
     "name": "stdout",
     "output_type": "stream",
     "text": [
      "Collecting mesa\n",
      "  Downloading Mesa-0.8.9-py3-none-any.whl (668 kB)\n",
      "Requirement already satisfied: pandas in c:\\users\\jd127\\anaconda3\\lib\\site-packages (from mesa) (1.2.4)\n",
      "Requirement already satisfied: numpy in c:\\users\\jd127\\anaconda3\\lib\\site-packages (from mesa) (1.20.1)\n",
      "Collecting cookiecutter\n",
      "  Downloading cookiecutter-1.7.3-py2.py3-none-any.whl (34 kB)\n",
      "Requirement already satisfied: tornado in c:\\users\\jd127\\anaconda3\\lib\\site-packages (from mesa) (6.1)\n",
      "Requirement already satisfied: click in c:\\users\\jd127\\anaconda3\\lib\\site-packages (from mesa) (7.1.2)\n",
      "Requirement already satisfied: networkx in c:\\users\\jd127\\anaconda3\\lib\\site-packages (from mesa) (2.5)\n",
      "Requirement already satisfied: tqdm in c:\\users\\jd127\\anaconda3\\lib\\site-packages (from mesa) (4.59.0)\n",
      "Collecting jinja2-time>=0.2.0\n",
      "  Downloading jinja2_time-0.2.0-py2.py3-none-any.whl (6.4 kB)\n",
      "Collecting poyo>=0.5.0\n",
      "  Downloading poyo-0.5.0-py2.py3-none-any.whl (10 kB)\n",
      "Requirement already satisfied: Jinja2<4.0.0,>=2.7 in c:\\users\\jd127\\anaconda3\\lib\\site-packages (from cookiecutter->mesa) (2.11.3)\n",
      "Requirement already satisfied: requests>=2.23.0 in c:\\users\\jd127\\anaconda3\\lib\\site-packages (from cookiecutter->mesa) (2.25.1)\n",
      "Collecting binaryornot>=0.4.4\n",
      "  Downloading binaryornot-0.4.4-py2.py3-none-any.whl (9.0 kB)\n",
      "Requirement already satisfied: six>=1.10 in c:\\users\\jd127\\anaconda3\\lib\\site-packages (from cookiecutter->mesa) (1.15.0)\n",
      "Collecting python-slugify>=4.0.0\n",
      "  Downloading python_slugify-5.0.2-py2.py3-none-any.whl (6.7 kB)\n",
      "Requirement already satisfied: chardet>=3.0.2 in c:\\users\\jd127\\anaconda3\\lib\\site-packages (from binaryornot>=0.4.4->cookiecutter->mesa) (4.0.0)\n",
      "Requirement already satisfied: MarkupSafe>=0.23 in c:\\users\\jd127\\anaconda3\\lib\\site-packages (from Jinja2<4.0.0,>=2.7->cookiecutter->mesa) (1.1.1)\n",
      "Collecting arrow\n",
      "  Downloading arrow-1.1.1-py3-none-any.whl (60 kB)\n",
      "Collecting text-unidecode>=1.3\n",
      "  Downloading text_unidecode-1.3-py2.py3-none-any.whl (78 kB)\n",
      "Requirement already satisfied: idna<3,>=2.5 in c:\\users\\jd127\\anaconda3\\lib\\site-packages (from requests>=2.23.0->cookiecutter->mesa) (2.10)\n",
      "Requirement already satisfied: certifi>=2017.4.17 in c:\\users\\jd127\\anaconda3\\lib\\site-packages (from requests>=2.23.0->cookiecutter->mesa) (2020.12.5)\n",
      "Requirement already satisfied: urllib3<1.27,>=1.21.1 in c:\\users\\jd127\\anaconda3\\lib\\site-packages (from requests>=2.23.0->cookiecutter->mesa) (1.26.4)\n",
      "Requirement already satisfied: python-dateutil>=2.7.0 in c:\\users\\jd127\\anaconda3\\lib\\site-packages (from arrow->jinja2-time>=0.2.0->cookiecutter->mesa) (2.8.1)\n",
      "Requirement already satisfied: decorator>=4.3.0 in c:\\users\\jd127\\anaconda3\\lib\\site-packages (from networkx->mesa) (5.0.6)\n",
      "Requirement already satisfied: pytz>=2017.3 in c:\\users\\jd127\\anaconda3\\lib\\site-packages (from pandas->mesa) (2021.1)\n",
      "Installing collected packages: text-unidecode, arrow, python-slugify, poyo, jinja2-time, binaryornot, cookiecutter, mesa\n",
      "Successfully installed arrow-1.1.1 binaryornot-0.4.4 cookiecutter-1.7.3 jinja2-time-0.2.0 mesa-0.8.9 poyo-0.5.0 python-slugify-5.0.2 text-unidecode-1.3\n"
     ]
    }
   ],
   "source": [
    "!pip3 install mesa"
   ]
  },
  {
   "cell_type": "code",
   "execution_count": 3,
   "metadata": {
    "id": "VCKv0ClSKfSN"
   },
   "outputs": [],
   "source": [
    "# La clase `Model` se hace cargo de los atributos a nivel del modelo, maneja los agentes. \n",
    "# Cada modelo puede contener múltiples agentes y todos ellos son instancias de la clase `Agent`.\n",
    "from mesa import Agent, Model \n",
    "\n",
    "# Debido a que necesitamos un solo agente por celda elegimos `SingleGrid` que fuerza un solo objeto por celda.\n",
    "from mesa.space import SingleGrid\n",
    "\n",
    "# Con `SimultaneousActivation` hacemos que todos los agentes se activen de manera simultanea.\n",
    "from mesa.time import SimultaneousActivation\n",
    "\n",
    "# Vamos a hacer uso de `DataCollector` para obtener el grid completo cada paso (o generación) y lo usaremos para graficarlo.\n",
    "from mesa.datacollection import DataCollector\n",
    "\n",
    "# mathplotlib lo usamos para graficar/visualizar como evoluciona el autómata celular.\n",
    "%matplotlib inline\n",
    "import matplotlib\n",
    "import matplotlib.pyplot as plt\n",
    "import matplotlib.animation as animation\n",
    "plt.rcParams[\"animation.html\"] = \"jshtml\"\n",
    "matplotlib.rcParams['animation.embed_limit'] = 2**128\n",
    "\n",
    "# Definimos los siguientes paquetes para manejar valores númericos.\n",
    "import numpy as np\n",
    "import pandas as pd\n",
    "\n",
    "# Definimos otros paquetes que vamos a usar para medir el tiempo de ejecución de nuestro algoritmo.\n",
    "import time\n",
    "import datetime"
   ]
  },
  {
   "cell_type": "markdown",
   "metadata": {
    "id": "jpgt9VVLKfSO"
   },
   "source": [
    "## Crear el modelo\n",
    "\n",
    "Antes que nada el presente modelo se encuentra basado en el [tutorial introductorio](https://mesa.readthedocs.io/en/master/tutorials/intro_tutorial.html). Lo modifiqué un poco para que funcionara para el presente problema pero en esencia es lo mismo."
   ]
  },
  {
   "cell_type": "code",
   "execution_count": 10,
   "metadata": {
    "id": "OV98dyAhKfSO"
   },
   "outputs": [],
   "source": [
    " '''\n",
    "def get_grid(model):\n",
    "   \n",
    "    Esta es una función auxiliar que nos permite guardar el grid para cada uno de los agentes.\n",
    "    param model: El modelo del cual optener el grid.\n",
    "    return una matriz con la información del grid del agente.\n",
    "   \n",
    "    grid = np.zeros((model.grid.width, model.grid.height))\n",
    "    for cell in model.grid.coord_iter():\n",
    "        cell_content, x, y = cell\n",
    "        grid[x][y] = cell_content.live\n",
    "    return grid\n",
    " '''\n",
    "    \n",
    "def get_grid(model):\n",
    "    home= np.zeros((model.grid.width, model.grid.height))\n",
    "    for cell in model.grid.coord_iter():\n",
    "        cell_content, x, y = cell\n",
    "        for content in cell_content:\n",
    "            if isinstance(content, Vacuum):\n",
    "                home[x][y]= 2\n",
    "            else:\n",
    "                home[x][y] = cell_content.state\n",
    "    return home\n",
    "\n",
    "class GameLifeAgent(Agent):\n",
    "    '''\n",
    "    Representa a un agente o una celda con estado vivo (1) o muerto (0)\n",
    "    '''\n",
    "    def __init__(self, unique_id, model):\n",
    "        '''\n",
    "        Crea un agente con estado inicial aleatorio de 0 o 1, también se le asigna un identificador \n",
    "        formado por una tupla (x,y). También se define un nuevo estado cuyo valor será definido por las \n",
    "        reglas mencionadas arriba.\n",
    "        '''\n",
    "        super().__init__(unique_id, model)\n",
    "        self.live = np.random.choice([0,1])\n",
    "        self.next_state = None\n",
    "    \n",
    "    def step(self):\n",
    "        '''\n",
    "        Este método es el que calcula si la celda vivirá o morirá dependiendo el estado de sus vecinos.\n",
    "        El estado live de la siguiente generación no se cambia aquí se almacena en self.next_state. La idea \n",
    "        es esperar a que todos los agentes calculen su estado y una vez hecho eso, ya hacer el cambio.\n",
    "        '''\n",
    "        live_neighbours = 0   \n",
    "        \n",
    "        neighbours = self.model.grid.get_neighbors(\n",
    "            self.pos,\n",
    "            moore=True,\n",
    "            include_center=False)\n",
    "        \n",
    "        for neighbor in neighbours:\n",
    "            live_neighbours = live_neighbours + neighbor.live\n",
    "        \n",
    "        self.next_state = self.live\n",
    "        if self.next_state == 1:\n",
    "            if live_neighbours < 2 or live_neighbours > 3:\n",
    "                self.next_state = 0\n",
    "        else:\n",
    "            if live_neighbours == 3:\n",
    "                self.next_state = 1\n",
    "    \n",
    "    def advance(self):\n",
    "        '''\n",
    "        Define el nuevo estado calculado del método step.\n",
    "        '''\n",
    "        self.live = self.next_state\n",
    "            \n",
    "class GameLifeModel(Model):\n",
    "    '''\n",
    "    Define el modelo del juego de la vida.\n",
    "    '''\n",
    "    def __init__(self, width, height):\n",
    "        self.num_agents = width * height\n",
    "        self.grid = SingleGrid(width, height, True)\n",
    "        self.schedule = SimultaneousActivation(self)\n",
    "        \n",
    "        for (content, x, y) in self.grid.coord_iter():\n",
    "            a = GameLifeAgent((x, y), self)\n",
    "            self.grid.place_agent(a, (x, y))\n",
    "            self.schedule.add(a)\n",
    "        \n",
    "        # Aquí definimos con colector para obtener el grid completo.\n",
    "        self.datacollector = DataCollector(\n",
    "            model_reporters={\"Grid\": get_grid})\n",
    "    \n",
    "    def step(self):\n",
    "        '''\n",
    "        En cada paso el colector tomará la información que se definió y almacenará el grid para luego graficarlo.\n",
    "        '''\n",
    "        self.datacollector.collect(self)\n",
    "        self.schedule.step()"
   ]
  },
  {
   "cell_type": "markdown",
   "metadata": {
    "id": "p8hcfMP6KfSP"
   },
   "source": [
    "A continuación corremos el modelo"
   ]
  },
  {
   "cell_type": "code",
   "execution_count": 14,
   "metadata": {
    "colab": {
     "base_uri": "https://localhost:8080/"
    },
    "id": "fj5LDvEpKfSQ",
    "outputId": "fe7aeb5e-0880-4580-9561-b50f116e794d",
    "scrolled": true
   },
   "outputs": [
    {
     "ename": "TypeError",
     "evalue": "'GameLifeAgent' object is not iterable",
     "output_type": "error",
     "traceback": [
      "\u001b[1;31m---------------------------------------------------------------------------\u001b[0m",
      "\u001b[1;31mTypeError\u001b[0m                                 Traceback (most recent call last)",
      "\u001b[1;32m<ipython-input-14-701fb910b296>\u001b[0m in \u001b[0;36m<module>\u001b[1;34m\u001b[0m\n\u001b[0;32m      9\u001b[0m \u001b[0mmodel\u001b[0m \u001b[1;33m=\u001b[0m \u001b[0mGameLifeModel\u001b[0m\u001b[1;33m(\u001b[0m\u001b[0mGRID_SIZE\u001b[0m\u001b[1;33m,\u001b[0m \u001b[0mGRID_SIZE\u001b[0m\u001b[1;33m)\u001b[0m\u001b[1;33m\u001b[0m\u001b[1;33m\u001b[0m\u001b[0m\n\u001b[0;32m     10\u001b[0m \u001b[1;32mfor\u001b[0m \u001b[0mi\u001b[0m \u001b[1;32min\u001b[0m \u001b[0mrange\u001b[0m\u001b[1;33m(\u001b[0m\u001b[0mNUM_DIRTY_TILES\u001b[0m\u001b[1;33m)\u001b[0m\u001b[1;33m:\u001b[0m\u001b[1;33m\u001b[0m\u001b[1;33m\u001b[0m\u001b[0m\n\u001b[1;32m---> 11\u001b[1;33m     \u001b[0mmodel\u001b[0m\u001b[1;33m.\u001b[0m\u001b[0mstep\u001b[0m\u001b[1;33m(\u001b[0m\u001b[1;33m)\u001b[0m\u001b[1;33m\u001b[0m\u001b[1;33m\u001b[0m\u001b[0m\n\u001b[0m\u001b[0;32m     12\u001b[0m \u001b[1;33m\u001b[0m\u001b[0m\n\u001b[0;32m     13\u001b[0m \u001b[1;31m# Imprimimos el tiempo que le tomó correr al modelo.\u001b[0m\u001b[1;33m\u001b[0m\u001b[1;33m\u001b[0m\u001b[1;33m\u001b[0m\u001b[0m\n",
      "\u001b[1;32m<ipython-input-10-84b3ee2b4d9f>\u001b[0m in \u001b[0;36mstep\u001b[1;34m(self)\u001b[0m\n\u001b[0;32m     90\u001b[0m        \u001b[0mEn\u001b[0m \u001b[0mcada\u001b[0m \u001b[0mpaso\u001b[0m \u001b[0mel\u001b[0m \u001b[0mcolector\u001b[0m \u001b[0mtomará\u001b[0m \u001b[0mla\u001b[0m \u001b[0minformación\u001b[0m \u001b[0mque\u001b[0m \u001b[0mse\u001b[0m \u001b[0mdefinió\u001b[0m \u001b[0my\u001b[0m \u001b[0malmacenará\u001b[0m \u001b[0mel\u001b[0m \u001b[0mgrid\u001b[0m \u001b[0mpara\u001b[0m \u001b[0mluego\u001b[0m \u001b[0mgraficarlo\u001b[0m\u001b[1;33m.\u001b[0m\u001b[1;33m\u001b[0m\u001b[1;33m\u001b[0m\u001b[0m\n\u001b[0;32m     91\u001b[0m        '''\n\u001b[1;32m---> 92\u001b[1;33m        \u001b[0mself\u001b[0m\u001b[1;33m.\u001b[0m\u001b[0mdatacollector\u001b[0m\u001b[1;33m.\u001b[0m\u001b[0mcollect\u001b[0m\u001b[1;33m(\u001b[0m\u001b[0mself\u001b[0m\u001b[1;33m)\u001b[0m\u001b[1;33m\u001b[0m\u001b[1;33m\u001b[0m\u001b[0m\n\u001b[0m\u001b[0;32m     93\u001b[0m        \u001b[0mself\u001b[0m\u001b[1;33m.\u001b[0m\u001b[0mschedule\u001b[0m\u001b[1;33m.\u001b[0m\u001b[0mstep\u001b[0m\u001b[1;33m(\u001b[0m\u001b[1;33m)\u001b[0m\u001b[1;33m\u001b[0m\u001b[1;33m\u001b[0m\u001b[0m\n",
      "\u001b[1;32m~\\anaconda3\\lib\\site-packages\\mesa\\datacollection.py\u001b[0m in \u001b[0;36mcollect\u001b[1;34m(self, model)\u001b[0m\n\u001b[0;32m    181\u001b[0m                 \u001b[1;31m# Check if Lambda operator\u001b[0m\u001b[1;33m\u001b[0m\u001b[1;33m\u001b[0m\u001b[1;33m\u001b[0m\u001b[0m\n\u001b[0;32m    182\u001b[0m                 \u001b[1;32mif\u001b[0m \u001b[0misinstance\u001b[0m\u001b[1;33m(\u001b[0m\u001b[0mreporter\u001b[0m\u001b[1;33m,\u001b[0m \u001b[0mtypes\u001b[0m\u001b[1;33m.\u001b[0m\u001b[0mLambdaType\u001b[0m\u001b[1;33m)\u001b[0m\u001b[1;33m:\u001b[0m\u001b[1;33m\u001b[0m\u001b[1;33m\u001b[0m\u001b[0m\n\u001b[1;32m--> 183\u001b[1;33m                     \u001b[0mself\u001b[0m\u001b[1;33m.\u001b[0m\u001b[0mmodel_vars\u001b[0m\u001b[1;33m[\u001b[0m\u001b[0mvar\u001b[0m\u001b[1;33m]\u001b[0m\u001b[1;33m.\u001b[0m\u001b[0mappend\u001b[0m\u001b[1;33m(\u001b[0m\u001b[0mreporter\u001b[0m\u001b[1;33m(\u001b[0m\u001b[0mmodel\u001b[0m\u001b[1;33m)\u001b[0m\u001b[1;33m)\u001b[0m\u001b[1;33m\u001b[0m\u001b[1;33m\u001b[0m\u001b[0m\n\u001b[0m\u001b[0;32m    184\u001b[0m                 \u001b[1;31m# Check if model attribute\u001b[0m\u001b[1;33m\u001b[0m\u001b[1;33m\u001b[0m\u001b[1;33m\u001b[0m\u001b[0m\n\u001b[0;32m    185\u001b[0m                 \u001b[1;32melif\u001b[0m \u001b[0misinstance\u001b[0m\u001b[1;33m(\u001b[0m\u001b[0mreporter\u001b[0m\u001b[1;33m,\u001b[0m \u001b[0mpartial\u001b[0m\u001b[1;33m)\u001b[0m\u001b[1;33m:\u001b[0m\u001b[1;33m\u001b[0m\u001b[1;33m\u001b[0m\u001b[0m\n",
      "\u001b[1;32m<ipython-input-10-84b3ee2b4d9f>\u001b[0m in \u001b[0;36mget_grid\u001b[1;34m(model)\u001b[0m\n\u001b[0;32m     17\u001b[0m    \u001b[1;32mfor\u001b[0m \u001b[0mcell\u001b[0m \u001b[1;32min\u001b[0m \u001b[0mmodel\u001b[0m\u001b[1;33m.\u001b[0m\u001b[0mgrid\u001b[0m\u001b[1;33m.\u001b[0m\u001b[0mcoord_iter\u001b[0m\u001b[1;33m(\u001b[0m\u001b[1;33m)\u001b[0m\u001b[1;33m:\u001b[0m\u001b[1;33m\u001b[0m\u001b[1;33m\u001b[0m\u001b[0m\n\u001b[0;32m     18\u001b[0m        \u001b[0mcell_content\u001b[0m\u001b[1;33m,\u001b[0m \u001b[0mx\u001b[0m\u001b[1;33m,\u001b[0m \u001b[0my\u001b[0m \u001b[1;33m=\u001b[0m \u001b[0mcell\u001b[0m\u001b[1;33m\u001b[0m\u001b[1;33m\u001b[0m\u001b[0m\n\u001b[1;32m---> 19\u001b[1;33m        \u001b[1;32mfor\u001b[0m \u001b[0mcontent\u001b[0m \u001b[1;32min\u001b[0m \u001b[0mcell_content\u001b[0m\u001b[1;33m:\u001b[0m\u001b[1;33m\u001b[0m\u001b[1;33m\u001b[0m\u001b[0m\n\u001b[0m\u001b[0;32m     20\u001b[0m            \u001b[1;32mif\u001b[0m \u001b[0misinstance\u001b[0m\u001b[1;33m(\u001b[0m\u001b[0mcontent\u001b[0m\u001b[1;33m,\u001b[0m \u001b[0mVacuum\u001b[0m\u001b[1;33m)\u001b[0m\u001b[1;33m:\u001b[0m\u001b[1;33m\u001b[0m\u001b[1;33m\u001b[0m\u001b[0m\n\u001b[0;32m     21\u001b[0m                \u001b[0mhome\u001b[0m\u001b[1;33m[\u001b[0m\u001b[0mx\u001b[0m\u001b[1;33m]\u001b[0m\u001b[1;33m[\u001b[0m\u001b[0my\u001b[0m\u001b[1;33m]\u001b[0m\u001b[1;33m=\u001b[0m \u001b[1;36m2\u001b[0m\u001b[1;33m\u001b[0m\u001b[1;33m\u001b[0m\u001b[0m\n",
      "\u001b[1;31mTypeError\u001b[0m: 'GameLifeAgent' object is not iterable"
     ]
    }
   ],
   "source": [
    "# Definimos el tamaño del Grid\n",
    "GRID_SIZE = 10\n",
    "\n",
    "# Definimos el número de generaciones a correr\n",
    "NUM_DIRTY_TILES = 3\n",
    "\n",
    "# Registramos el tiempo de inicio y corremos el modelo\n",
    "start_time = time.time()\n",
    "model = GameLifeModel(GRID_SIZE, GRID_SIZE)\n",
    "for i in range(NUM_DIRTY_TILES):\n",
    "    model.step()\n",
    "\n",
    "# Imprimimos el tiempo que le tomó correr al modelo.\n",
    "print('Tiempo de ejecución:', str(datetime.timedelta(seconds=(time.time() - start_time))))"
   ]
  },
  {
   "cell_type": "markdown",
   "metadata": {
    "id": "7nS66alkKfSR"
   },
   "source": [
    "Obtenemos la información que almacenó el colector, este nos entregará un DataFrame de pandas que contiene toda la información."
   ]
  },
  {
   "cell_type": "code",
   "execution_count": 12,
   "metadata": {
    "id": "UfEr4w3zKfSS"
   },
   "outputs": [],
   "source": [
    "all_grid = model.datacollector.get_model_vars_dataframe()"
   ]
  },
  {
   "cell_type": "markdown",
   "metadata": {
    "id": "idocz_-5KfSS"
   },
   "source": [
    "Graficamos la información usando `matplotlib`"
   ]
  },
  {
   "cell_type": "code",
   "execution_count": 13,
   "metadata": {
    "id": "Kua3-9jGKfSS"
   },
   "outputs": [
    {
     "ename": "IndexError",
     "evalue": "single positional indexer is out-of-bounds",
     "output_type": "error",
     "traceback": [
      "\u001b[1;31m---------------------------------------------------------------------------\u001b[0m",
      "\u001b[1;31mIndexError\u001b[0m                                Traceback (most recent call last)",
      "\u001b[1;32m<ipython-input-13-83838796555c>\u001b[0m in \u001b[0;36m<module>\u001b[1;34m\u001b[0m\n\u001b[0;32m      2\u001b[0m \u001b[0maxs\u001b[0m\u001b[1;33m.\u001b[0m\u001b[0mset_xticks\u001b[0m\u001b[1;33m(\u001b[0m\u001b[1;33m[\u001b[0m\u001b[1;33m]\u001b[0m\u001b[1;33m)\u001b[0m\u001b[1;33m\u001b[0m\u001b[1;33m\u001b[0m\u001b[0m\n\u001b[0;32m      3\u001b[0m \u001b[0maxs\u001b[0m\u001b[1;33m.\u001b[0m\u001b[0mset_yticks\u001b[0m\u001b[1;33m(\u001b[0m\u001b[1;33m[\u001b[0m\u001b[1;33m]\u001b[0m\u001b[1;33m)\u001b[0m\u001b[1;33m\u001b[0m\u001b[1;33m\u001b[0m\u001b[0m\n\u001b[1;32m----> 4\u001b[1;33m \u001b[0mpatch\u001b[0m \u001b[1;33m=\u001b[0m \u001b[0mplt\u001b[0m\u001b[1;33m.\u001b[0m\u001b[0mimshow\u001b[0m\u001b[1;33m(\u001b[0m\u001b[0mall_grid\u001b[0m\u001b[1;33m.\u001b[0m\u001b[0miloc\u001b[0m\u001b[1;33m[\u001b[0m\u001b[1;36m0\u001b[0m\u001b[1;33m]\u001b[0m\u001b[1;33m[\u001b[0m\u001b[1;36m0\u001b[0m\u001b[1;33m]\u001b[0m\u001b[1;33m,\u001b[0m \u001b[0mcmap\u001b[0m\u001b[1;33m=\u001b[0m\u001b[0mplt\u001b[0m\u001b[1;33m.\u001b[0m\u001b[0mcm\u001b[0m\u001b[1;33m.\u001b[0m\u001b[0mbinary\u001b[0m\u001b[1;33m)\u001b[0m\u001b[1;33m\u001b[0m\u001b[1;33m\u001b[0m\u001b[0m\n\u001b[0m\u001b[0;32m      5\u001b[0m \u001b[1;33m\u001b[0m\u001b[0m\n\u001b[0;32m      6\u001b[0m \u001b[1;32mdef\u001b[0m \u001b[0manimate\u001b[0m\u001b[1;33m(\u001b[0m\u001b[0mi\u001b[0m\u001b[1;33m)\u001b[0m\u001b[1;33m:\u001b[0m\u001b[1;33m\u001b[0m\u001b[1;33m\u001b[0m\u001b[0m\n",
      "\u001b[1;32m~\\anaconda3\\lib\\site-packages\\pandas\\core\\indexing.py\u001b[0m in \u001b[0;36m__getitem__\u001b[1;34m(self, key)\u001b[0m\n\u001b[0;32m    893\u001b[0m \u001b[1;33m\u001b[0m\u001b[0m\n\u001b[0;32m    894\u001b[0m             \u001b[0mmaybe_callable\u001b[0m \u001b[1;33m=\u001b[0m \u001b[0mcom\u001b[0m\u001b[1;33m.\u001b[0m\u001b[0mapply_if_callable\u001b[0m\u001b[1;33m(\u001b[0m\u001b[0mkey\u001b[0m\u001b[1;33m,\u001b[0m \u001b[0mself\u001b[0m\u001b[1;33m.\u001b[0m\u001b[0mobj\u001b[0m\u001b[1;33m)\u001b[0m\u001b[1;33m\u001b[0m\u001b[1;33m\u001b[0m\u001b[0m\n\u001b[1;32m--> 895\u001b[1;33m             \u001b[1;32mreturn\u001b[0m \u001b[0mself\u001b[0m\u001b[1;33m.\u001b[0m\u001b[0m_getitem_axis\u001b[0m\u001b[1;33m(\u001b[0m\u001b[0mmaybe_callable\u001b[0m\u001b[1;33m,\u001b[0m \u001b[0maxis\u001b[0m\u001b[1;33m=\u001b[0m\u001b[0maxis\u001b[0m\u001b[1;33m)\u001b[0m\u001b[1;33m\u001b[0m\u001b[1;33m\u001b[0m\u001b[0m\n\u001b[0m\u001b[0;32m    896\u001b[0m \u001b[1;33m\u001b[0m\u001b[0m\n\u001b[0;32m    897\u001b[0m     \u001b[1;32mdef\u001b[0m \u001b[0m_is_scalar_access\u001b[0m\u001b[1;33m(\u001b[0m\u001b[0mself\u001b[0m\u001b[1;33m,\u001b[0m \u001b[0mkey\u001b[0m\u001b[1;33m:\u001b[0m \u001b[0mTuple\u001b[0m\u001b[1;33m)\u001b[0m\u001b[1;33m:\u001b[0m\u001b[1;33m\u001b[0m\u001b[1;33m\u001b[0m\u001b[0m\n",
      "\u001b[1;32m~\\anaconda3\\lib\\site-packages\\pandas\\core\\indexing.py\u001b[0m in \u001b[0;36m_getitem_axis\u001b[1;34m(self, key, axis)\u001b[0m\n\u001b[0;32m   1499\u001b[0m \u001b[1;33m\u001b[0m\u001b[0m\n\u001b[0;32m   1500\u001b[0m             \u001b[1;31m# validate the location\u001b[0m\u001b[1;33m\u001b[0m\u001b[1;33m\u001b[0m\u001b[1;33m\u001b[0m\u001b[0m\n\u001b[1;32m-> 1501\u001b[1;33m             \u001b[0mself\u001b[0m\u001b[1;33m.\u001b[0m\u001b[0m_validate_integer\u001b[0m\u001b[1;33m(\u001b[0m\u001b[0mkey\u001b[0m\u001b[1;33m,\u001b[0m \u001b[0maxis\u001b[0m\u001b[1;33m)\u001b[0m\u001b[1;33m\u001b[0m\u001b[1;33m\u001b[0m\u001b[0m\n\u001b[0m\u001b[0;32m   1502\u001b[0m \u001b[1;33m\u001b[0m\u001b[0m\n\u001b[0;32m   1503\u001b[0m             \u001b[1;32mreturn\u001b[0m \u001b[0mself\u001b[0m\u001b[1;33m.\u001b[0m\u001b[0mobj\u001b[0m\u001b[1;33m.\u001b[0m\u001b[0m_ixs\u001b[0m\u001b[1;33m(\u001b[0m\u001b[0mkey\u001b[0m\u001b[1;33m,\u001b[0m \u001b[0maxis\u001b[0m\u001b[1;33m=\u001b[0m\u001b[0maxis\u001b[0m\u001b[1;33m)\u001b[0m\u001b[1;33m\u001b[0m\u001b[1;33m\u001b[0m\u001b[0m\n",
      "\u001b[1;32m~\\anaconda3\\lib\\site-packages\\pandas\\core\\indexing.py\u001b[0m in \u001b[0;36m_validate_integer\u001b[1;34m(self, key, axis)\u001b[0m\n\u001b[0;32m   1442\u001b[0m         \u001b[0mlen_axis\u001b[0m \u001b[1;33m=\u001b[0m \u001b[0mlen\u001b[0m\u001b[1;33m(\u001b[0m\u001b[0mself\u001b[0m\u001b[1;33m.\u001b[0m\u001b[0mobj\u001b[0m\u001b[1;33m.\u001b[0m\u001b[0m_get_axis\u001b[0m\u001b[1;33m(\u001b[0m\u001b[0maxis\u001b[0m\u001b[1;33m)\u001b[0m\u001b[1;33m)\u001b[0m\u001b[1;33m\u001b[0m\u001b[1;33m\u001b[0m\u001b[0m\n\u001b[0;32m   1443\u001b[0m         \u001b[1;32mif\u001b[0m \u001b[0mkey\u001b[0m \u001b[1;33m>=\u001b[0m \u001b[0mlen_axis\u001b[0m \u001b[1;32mor\u001b[0m \u001b[0mkey\u001b[0m \u001b[1;33m<\u001b[0m \u001b[1;33m-\u001b[0m\u001b[0mlen_axis\u001b[0m\u001b[1;33m:\u001b[0m\u001b[1;33m\u001b[0m\u001b[1;33m\u001b[0m\u001b[0m\n\u001b[1;32m-> 1444\u001b[1;33m             \u001b[1;32mraise\u001b[0m \u001b[0mIndexError\u001b[0m\u001b[1;33m(\u001b[0m\u001b[1;34m\"single positional indexer is out-of-bounds\"\u001b[0m\u001b[1;33m)\u001b[0m\u001b[1;33m\u001b[0m\u001b[1;33m\u001b[0m\u001b[0m\n\u001b[0m\u001b[0;32m   1445\u001b[0m \u001b[1;33m\u001b[0m\u001b[0m\n\u001b[0;32m   1446\u001b[0m     \u001b[1;31m# -------------------------------------------------------------------\u001b[0m\u001b[1;33m\u001b[0m\u001b[1;33m\u001b[0m\u001b[1;33m\u001b[0m\u001b[0m\n",
      "\u001b[1;31mIndexError\u001b[0m: single positional indexer is out-of-bounds"
     ]
    }
   ],
   "source": [
    "%%capture\n",
    "\n",
    "fig, axs = plt.subplots(figsize=(7,7))\n",
    "axs.set_xticks([])\n",
    "axs.set_yticks([])\n",
    "patch = plt.imshow(all_grid.iloc[0][0], cmap=plt.cm.binary)\n",
    "\n",
    "def animate(i):\n",
    "    patch.set_data(all_grid.iloc[i][0])\n",
    "    \n",
    "anim = animation.FuncAnimation(fig, animate, frames=NUM_GENERATIONS)"
   ]
  },
  {
   "cell_type": "code",
   "execution_count": 1,
   "metadata": {
    "colab": {
     "base_uri": "https://localhost:8080/",
     "height": 601
    },
    "id": "-BFpj0LVKfSS",
    "outputId": "0a3f12e7-f444-4648-b0f4-df96f4c9b376"
   },
   "outputs": [
    {
     "ename": "NameError",
     "evalue": "name 'anim' is not defined",
     "output_type": "error",
     "traceback": [
      "\u001b[1;31m---------------------------------------------------------------------------\u001b[0m",
      "\u001b[1;31mNameError\u001b[0m                                 Traceback (most recent call last)",
      "\u001b[1;32m<ipython-input-1-027b5d0310db>\u001b[0m in \u001b[0;36m<module>\u001b[1;34m\u001b[0m\n\u001b[1;32m----> 1\u001b[1;33m \u001b[0manim\u001b[0m\u001b[1;33m\u001b[0m\u001b[1;33m\u001b[0m\u001b[0m\n\u001b[0m",
      "\u001b[1;31mNameError\u001b[0m: name 'anim' is not defined"
     ]
    }
   ],
   "source": [
    "anim"
   ]
  },
  {
   "cell_type": "markdown",
   "metadata": {
    "id": "D5C4DYT3KfST"
   },
   "source": [
    "## Conclusiones\n",
    "\n"
   ]
  },
  {
   "cell_type": "code",
   "execution_count": null,
   "metadata": {
    "id": "nMh7DMMnKfST"
   },
   "outputs": [],
   "source": []
  }
 ],
 "metadata": {
  "colab": {
   "name": "Copia de Game_of_Life.ipynb",
   "provenance": [],
   "toc_visible": true
  },
  "kernelspec": {
   "display_name": "Python 3",
   "language": "python",
   "name": "python3"
  },
  "language_info": {
   "codemirror_mode": {
    "name": "ipython",
    "version": 3
   },
   "file_extension": ".py",
   "mimetype": "text/x-python",
   "name": "python",
   "nbconvert_exporter": "python",
   "pygments_lexer": "ipython3",
   "version": "3.8.8"
  }
 },
 "nbformat": 4,
 "nbformat_minor": 4
}
